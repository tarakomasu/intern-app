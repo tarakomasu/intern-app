{
 "cells": [
  {
   "cell_type": "code",
   "execution_count": 9,
   "id": "dd97e892",
   "metadata": {},
   "outputs": [
    {
     "name": "stdout",
     "output_type": "stream",
     "text": [
      "(1, None, None, 'testcompany', 'test', 'https://example.com', 'https://example.com', '2025-04-23 04:26:32.715938', '2025-04-23 04:26:32.715938')\n",
      "(2, 'testmail', 'testtest', 'testcompany', 'test', 'https://example.com', 'https://example.com', '2025-04-23 04:40:09.818841', '2025-04-23 04:40:09.818841')\n",
      "(3, 'cmail.agu@gmail.com', 'password', 'notice', 'test', '', '', '2025-04-29 07:07:31.281985', '2025-04-29 07:07:31.281985')\n"
     ]
    }
   ],
   "source": [
    "import sqlite3\n",
    "\n",
    "# RailsのSQLiteファイルに接続（フルパスでもOK）\n",
    "conn = sqlite3.connect('C:/Users/chapu/Script/internapp/backend/storage/development.sqlite3')\n",
    "\n",
    "cursor = conn.cursor()\n",
    "\n",
    "# Notesテーブルの中身を表示\n",
    "cursor.execute('SELECT * FROM Companies')\n",
    "rows = cursor.fetchall()\n",
    "\n",
    "for row in rows:\n",
    "    print(row)\n",
    "\n",
    "conn.close()\n"
   ]
  },
  {
   "cell_type": "code",
   "execution_count": 10,
   "id": "7ca45b22",
   "metadata": {},
   "outputs": [
    {
     "name": "stdout",
     "output_type": "stream",
     "text": [
      "(1, 'email', 'chapurutepekku@gmail.com', '$2a$12$pRMhDyKSNxLlIw8yLEtsA.9rrw/r/RCy0rnIGk25h3noBs8QGUs4q', None, None, 0, None, None, None, None, None, None, None, None, 'chapurutepekku@gmail.com', '{\"x9LVlFVGAJ3od_FytFWEuQ\":{\"token\":\"$2a$10$haqiCCqvjLraQMT3Fx2EX.4NZrtudWUFXMMbz9NL5HzHkBnlIbpLi\",\"expiry\":1747019121,\"previous_token\":\"$2a$10$AIzSbu6Vdw/jtSUXdZbPpOq/2E77Y19o0pvcphkN3/f9qQGfV8/5u\",\"updated_at\":\"2025-04-28T03:05:20Z\"}}', '2025-04-28 03:05:20.755298', '2025-04-28 03:05:21.059800')\n",
      "(2, 'email', 'company/cmail.agu@gmail.com', '$2a$12$v/RKmnWhkH7i/vXRQ706VeSW5mu/sPl895eW/4vygXeqds.qLbPhy', None, None, 0, None, None, None, None, None, None, None, None, 'company/cmail.agu@gmail.com', '{\"u2jFFINhNxONi81hRFJymg\":{\"token\":\"$2a$10$7l294Pl7BK9KdN0ggAKofeyvpXQ.hjGTI6hD26aLBBUd3PKLXKsRq\",\"expiry\":1747119998,\"previous_token\":\"$2a$10$yXzGIsxniKZsMeBq9gR9d.018SbPG2eYv2eeXXCxIVI.UODj1/6G6\",\"updated_at\":\"2025-04-29T07:06:38Z\"}}', '2025-04-29 07:06:37.745468', '2025-04-29 07:06:38.138781')\n"
     ]
    }
   ],
   "source": [
    "import sqlite3\n",
    "\n",
    "# RailsのSQLiteファイルに接続（フルパスでもOK）\n",
    "conn = sqlite3.connect('C:/Users/chapu/Script/internapp/backend/storage/development.sqlite3')\n",
    "\n",
    "cursor = conn.cursor()\n",
    "\n",
    "# Notesテーブルの中身を表示\n",
    "cursor.execute('SELECT * FROM Users')\n",
    "rows = cursor.fetchall()\n",
    "\n",
    "for row in rows:\n",
    "    print(row)\n",
    "\n",
    "conn.close()"
   ]
  },
  {
   "cell_type": "code",
   "execution_count": 2,
   "id": "b57730c1",
   "metadata": {},
   "outputs": [
    {
     "name": "stdout",
     "output_type": "stream",
     "text": [
      "(1, 'cmail.agu@gmail.com', 'chapurutepekku@gmail.com', 'testmessage', '2025-04-29 13:15:59.987947', '2025-04-29 13:15:59.987947')\n"
     ]
    }
   ],
   "source": [
    "import sqlite3\n",
    "\n",
    "# RailsのSQLiteファイルに接続（フルパスでもOK）\n",
    "conn = sqlite3.connect('C:/Users/chapu/Script/internapp/backend/storage/development.sqlite3')\n",
    "\n",
    "cursor = conn.cursor()\n",
    "\n",
    "# Notesテーブルの中身を表示\n",
    "cursor.execute('SELECT * FROM Messages')\n",
    "rows = cursor.fetchall()\n",
    "\n",
    "for row in rows:\n",
    "    print(row)\n",
    "\n",
    "conn.close()"
   ]
  },
  {
   "cell_type": "code",
   "execution_count": null,
   "id": "ee99130b",
   "metadata": {},
   "outputs": [
    {
     "ename": "OperationalError",
     "evalue": "database is locked",
     "output_type": "error",
     "traceback": [
      "\u001b[1;31m---------------------------------------------------------------------------\u001b[0m",
      "\u001b[1;31mOperationalError\u001b[0m                          Traceback (most recent call last)",
      "Cell \u001b[1;32mIn[9], line 9\u001b[0m\n\u001b[0;32m      5\u001b[0m conn \u001b[38;5;241m=\u001b[39m sqlite3\u001b[38;5;241m.\u001b[39mconnect(\u001b[38;5;124m'\u001b[39m\u001b[38;5;124mC:/Users/chapu/Script/internapp/backend/storage/development.sqlite3\u001b[39m\u001b[38;5;124m'\u001b[39m)\n\u001b[0;32m      7\u001b[0m cursor \u001b[38;5;241m=\u001b[39m conn\u001b[38;5;241m.\u001b[39mcursor()\n\u001b[1;32m----> 9\u001b[0m \u001b[43mcursor\u001b[49m\u001b[38;5;241;43m.\u001b[39;49m\u001b[43mexecute\u001b[49m\u001b[43m(\u001b[49m\u001b[38;5;124;43m'''\u001b[39;49m\n\u001b[0;32m     10\u001b[0m \u001b[38;5;124;43mINSERT INTO logintests (email, password, created_at, updated_at) VALUES (?, ?, datetime(\u001b[39;49m\u001b[38;5;124;43m'\u001b[39;49m\u001b[38;5;124;43mnow\u001b[39;49m\u001b[38;5;124;43m'\u001b[39;49m\u001b[38;5;124;43m), datetime(\u001b[39;49m\u001b[38;5;124;43m'\u001b[39;49m\u001b[38;5;124;43mnow\u001b[39;49m\u001b[38;5;124;43m'\u001b[39;49m\u001b[38;5;124;43m) )\u001b[39;49m\n\u001b[0;32m     11\u001b[0m \u001b[38;5;124;43m'''\u001b[39;49m\u001b[43m,\u001b[49m\u001b[43m \u001b[49m\u001b[43m(\u001b[49m\u001b[38;5;124;43m\"\u001b[39;49m\u001b[38;5;124;43mchapurutepekku@gmail.com\u001b[39;49m\u001b[38;5;124;43m\"\u001b[39;49m\u001b[43m,\u001b[49m\u001b[43m \u001b[49m\u001b[38;5;124;43m\"\u001b[39;49m\u001b[38;5;124;43mPassword@0930\u001b[39;49m\u001b[38;5;124;43m\"\u001b[39;49m\u001b[43m)\u001b[49m\u001b[43m)\u001b[49m\n",
      "\u001b[1;31mOperationalError\u001b[0m: database is locked"
     ]
    }
   ],
   "source": [
    "import sqlite3\n",
    "import datetime\n",
    "\n",
    "# RailsのSQLiteファイルに接続（フルパスでもOK）\n",
    "conn = sqlite3.connect('C:/Users/chapu/Script/internapp/backend/storage/development.sqlite3')\n",
    "\n",
    "cursor = conn.cursor()\n",
    "\n",
    "cursor.execute('''\n",
    "INSERT INTO logintests (email, password, created_at, updated_at) VALUES (?, ?, datetime('now'), datetime('now') )\n",
    "''', (\"chapurutepekku@gmail.com\", \"Password@0930\"))"
   ]
  },
  {
   "cell_type": "code",
   "execution_count": null,
   "id": "724a0498",
   "metadata": {},
   "outputs": [],
   "source": [
    "#デタベ操作\n",
    "\n",
    "#サーバー起動\n",
    "rails s -p 3001\n",
    "\n",
    "#テーブル作成\n",
    "rails g scaffold Note title:string content:text\n",
    "\n",
    "#マイグレーション\n",
    "rails db:migrate\n",
    "\n",
    "#データ挿入\n",
    "$json = '{\"logintest\": {\"email\": \"chapurutepekku@gmail.com\", \"password\": \"password@0930\"}}'\n",
    "$bytes = [System.Text.Encoding]::UTF8.GetBytes($json)\n",
    "\n",
    "Invoke-WebRequest -Uri http://localhost:3001/logintests -Method POST `\n",
    "  -Headers @{ \"Content-Type\" = \"application/json\" } `\n",
    "  -Body $bytes\n",
    "\n",
    "\n",
    "#destroy\n",
    "\n",
    "rails console\n",
    "Student.find(1)_destroy\n",
    "Student.destroy_all"
   ]
  },
  {
   "cell_type": "code",
   "execution_count": null,
   "id": "e59a7eb6",
   "metadata": {},
   "outputs": [],
   "source": [
    "#データベースモデル\n",
    "\n",
    "#Students\n",
    "  t.text :email\n",
    "  t.text :password\n",
    "  t.text :first_name\n",
    "  t.text :given_name\n",
    "  t.text :first_kana\n",
    "  t.text :given_kana\n",
    "  t.text :sex\n",
    "  t.text :school\n",
    "  t.text :faculty\n",
    "  t.text :major\n",
    "  t.text :grade\n",
    "  t.text :graduate_year\n",
    "  t.text :address\n",
    "  t.text :pr\n",
    "  \n",
    "#Company\n"
   ]
  }
 ],
 "metadata": {
  "kernelspec": {
   "display_name": "Python 3",
   "language": "python",
   "name": "python3"
  },
  "language_info": {
   "codemirror_mode": {
    "name": "ipython",
    "version": 3
   },
   "file_extension": ".py",
   "mimetype": "text/x-python",
   "name": "python",
   "nbconvert_exporter": "python",
   "pygments_lexer": "ipython3",
   "version": "3.12.1"
  }
 },
 "nbformat": 4,
 "nbformat_minor": 5
}
